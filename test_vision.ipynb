{
 "cells": [
  {
   "cell_type": "code",
   "execution_count": 1,
   "metadata": {},
   "outputs": [],
   "source": [
    "import torch\n",
    "from torch.utils.data import DataLoader\n",
    "from torchvision import datasets, transforms\n",
    "import pickle\n",
    "from PIL import Image\n",
    "\n",
    "import matplotlib.pyplot as plt\n",
    "import hmax\n",
    "import numpy as np\n",
    "import pandas as pd"
   ]
  },
  {
   "cell_type": "code",
   "execution_count": 13,
   "metadata": {},
   "outputs": [
    {
     "name": "stderr",
     "output_type": "stream",
     "text": [
      "C:\\Users\\arsen\\AppData\\Local\\Programs\\Python\\Python310\\lib\\site-packages\\numpy\\core\\fromnumeric.py:43: VisibleDeprecationWarning: Creating an ndarray from ragged nested sequences (which is a list-or-tuple of lists-or-tuples-or ndarrays with different lengths or shapes) is deprecated. If you meant to do this, you must specify 'dtype=object' when creating the ndarray.\n",
      "  result = getattr(asarray(obj), method)(*args, **kwds)\n"
     ]
    }
   ],
   "source": [
    "#test data download\n",
    "eye_movements_df = pd.read_excel('./data/eye_movements/sample_data1(dynamics).xlsx')\n",
    "\n",
    "x = np.array(eye_movements_df['Point of Regard Right X [px]'])\n",
    "y = np.array(eye_movements_df['Point of Regard Right Y [px]'])\n",
    "\n",
    "x = np.split(x, np.where(x == '-')[0])\n",
    "y = np.split(x, np.where(y == '-')[0])"
   ]
  },
  {
   "cell_type": "code",
   "execution_count": 3,
   "metadata": {},
   "outputs": [],
   "source": [
    "model = hmax.HMAX('./universal_patch_set.mat')"
   ]
  },
  {
   "cell_type": "code",
   "execution_count": 4,
   "metadata": {},
   "outputs": [],
   "source": [
    "# A folder with example images\n",
    "example_images = datasets.ImageFolder(\n",
    "    './example_images/',\n",
    "    transform=transforms.Compose([\n",
    "        transforms.Grayscale(),\n",
    "        transforms.ToTensor(),\n",
    "        transforms.Lambda(lambda x: x * 255),\n",
    "    ])\n",
    ")\n",
    "\n",
    "# A dataloader that will run through all example images in one batch\n",
    "dataloader = DataLoader(example_images, batch_size=20)\n"
   ]
  },
  {
   "cell_type": "code",
   "execution_count": 5,
   "metadata": {},
   "outputs": [],
   "source": [
    "image_df = np.zeros((len(example_images), example_images[0][0][0].shape[0], example_images[0][0][0].shape[1]))\n",
    "for i in range(len(example_images)):\n",
    "    image_df[i,:,:] = example_images[i][0][0]"
   ]
  },
  {
   "cell_type": "code",
   "execution_count": 19,
   "metadata": {},
   "outputs": [
    {
     "data": {
      "text/plain": [
       "False"
      ]
     },
     "execution_count": 19,
     "metadata": {},
     "output_type": "execute_result"
    }
   ],
   "source": [
    "torch.cuda.is_available()"
   ]
  },
  {
   "cell_type": "code",
   "execution_count": 6,
   "metadata": {},
   "outputs": [],
   "source": [
    "# Determine whether there is a compatible GPU available\n",
    "device = torch.device('cuda:0' if torch.cuda.is_available() else 'cpu')"
   ]
  },
  {
   "cell_type": "code",
   "execution_count": 7,
   "metadata": {},
   "outputs": [],
   "source": [
    "# Run the model on the example images\n",
    "#s2: 1st neuron; 2nd image; 3rd filter; 4th (64,64) picture;\n",
    "model = model.to(device)\n",
    "for X, y in dataloader:\n",
    "    s1, c1, s2, c2 = model.get_all_layers(X.to(device))\n"
   ]
  },
  {
   "cell_type": "code",
   "execution_count": 8,
   "metadata": {},
   "outputs": [
    {
     "data": {
      "text/plain": [
       "(8, 8, 10, 400, (64, 64))"
      ]
     },
     "execution_count": 8,
     "metadata": {},
     "output_type": "execute_result"
    }
   ],
   "source": [
    "len(s2), len(s2[0]), len(s2[0][0]), len(s2[0][0][0]), s2[0][0][0][0].shape\n"
   ]
  },
  {
   "cell_type": "code",
   "execution_count": 9,
   "metadata": {},
   "outputs": [
    {
     "data": {
      "text/plain": [
       "<matplotlib.image.AxesImage at 0x187a4f64880>"
      ]
     },
     "execution_count": 9,
     "metadata": {},
     "output_type": "execute_result"
    },
    {
     "data": {
      "image/png": "[encoded data removed]",
      "text/plain": [
       "<Figure size 432x288 with 1 Axes>"
      ]
     },
     "metadata": {
      "needs_background": "light"
     },
     "output_type": "display_data"
    }
   ],
   "source": [
    "plt.imshow(c2[2])"
   ]
  },
  {
   "cell_type": "code",
   "execution_count": null,
   "metadata": {},
   "outputs": [],
   "source": [
    "with open('output.pkl', 'wb') as f:\n",
    "    pickle.dump(dict(s1=s1, c1=c1, s2=s2, c2=c2), f)"
   ]
  },
  {
   "cell_type": "code",
   "execution_count": 41,
   "metadata": {},
   "outputs": [],
   "source": [
    "def image_move(image, image_param, x_coord, y_coord, path_lenght=20):\n",
    "\n",
    "     x_shifts = np.array(x_coord[1][x_coord[1] != '-']%100, dtype=int)[:path_lenght]\n",
    "     y_shifts = np.array(y_coord[1][1][y_coord[1][1] != '-']%100, dtype=int)[:path_lenght]\n",
    "\n",
    "     new_images = np.zeros((len(x_shifts),image_param+image.shape[0],image_param+image.shape[1]))\n",
    "     im_par_set = np.zeros((len(x_shifts),4))\n",
    "\n",
    "     v1 = image_param//2\n",
    "     v2 = image_param//2+image.shape[0]\n",
    "     v3 = image_param//2\n",
    "     v4 = image_param//2+image.shape[1]\n",
    "     im_par_set[0,:] = np.array([v1, v2, v3, v4])\n",
    "     new_images[0,v1:v2,v3:v4] = image\n",
    "\n",
    "     for j in range(1,new_images.shape[0]):\n",
    "          #new_images взять картинку предыдущего шага!\n",
    "\n",
    "          v1_new = int(im_par_set[j-1,0] + x_shifts[j])\n",
    "          v2_new = int(im_par_set[j-1,1] + x_shifts[j])\n",
    "          v3_new = int(im_par_set[j-1,2] + y_shifts[j])\n",
    "          v4_new = int(im_par_set[j-1,3] + y_shifts[j])\n",
    "\n",
    "          im_par_set[j,:] = np.array([v1_new, v2_new, v3_new, v4_new])\n",
    "          new_images[j,v1_new:v2_new,v3_new:v4_new] = image\n",
    "     return new_images"
   ]
  },
  {
   "cell_type": "code",
   "execution_count": 44,
   "metadata": {},
   "outputs": [],
   "source": [
    "new_images = image_move(image_df[0,:,:], 1000, x, y, 40)"
   ]
  },
  {
   "cell_type": "code",
   "execution_count": 47,
   "metadata": {},
   "outputs": [
    {
     "data": {
      "text/plain": [
       "<matplotlib.image.AxesImage at 0x187b2057df0>"
      ]
     },
     "execution_count": 47,
     "metadata": {},
     "output_type": "execute_result"
    },
    {
     "data": {
      "image/png": "[encoded data removed]",
      "text/plain": [
       "<Figure size 432x288 with 1 Axes>"
      ]
     },
     "metadata": {
      "needs_background": "light"
     },
     "output_type": "display_data"
    }
   ],
   "source": [
    "plt.imshow(new_images[39,:,:])"
   ]
  }
 ],
 "metadata": {
  "interpreter": {
   "hash": "8be52dd2d7c2878edb8d6b176d803d56e33a8f9069206cb448eb742dd5aa0267"
  },
  "kernelspec": {
   "display_name": "Python 3.10.2 64-bit",
   "language": "python",
   "name": "python3"
  },
  "language_info": {
   "codemirror_mode": {
    "name": "ipython",
    "version": 3
   },
   "file_extension": ".py",
   "mimetype": "text/x-python",
   "name": "python",
   "nbconvert_exporter": "python",
   "pygments_lexer": "ipython3",
   "version": "3.10.2"
  },
  "orig_nbformat": 4
 },
 "nbformat": 4,
 "nbformat_minor": 2
}
