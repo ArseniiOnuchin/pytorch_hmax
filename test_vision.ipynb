{
 "cells": [
  {
   "cell_type": "code",
   "execution_count": 1,
   "metadata": {},
   "outputs": [],
   "source": [
    "import torch\n",
    "from torch.utils.data import DataLoader\n",
    "from torchvision import datasets, transforms\n",
    "import pickle\n",
    "from PIL import Image\n",
    "\n",
    "import matplotlib.pyplot as plt\n",
    "import hmax\n",
    "import numpy as np\n",
    "import pandas as pd"
   ]
  },
  {
   "cell_type": "code",
   "execution_count": 2,
   "metadata": {},
   "outputs": [],
   "source": [
    "#test data download\n",
    "eye_movements_df = pd.read_excel('./data/eye_movements/sample_data1(dynamics).xlsx')\n",
    "\n",
    "x = np.array(eye_movements_df['Point of Regard Right X [px]'])\n",
    "y = np.array(eye_movements_df['Point of Regard Right Y [px]'])\n",
    "\n",
    "x_splited = np.split(x, np.where(x == '-')[0])\n",
    "y_splited = np.split(y, np.where(y == '-')[0])"
   ]
  },
  {
   "cell_type": "code",
   "execution_count": 3,
   "metadata": {},
   "outputs": [],
   "source": [
    "model = hmax.HMAX('./universal_patch_set.mat')"
   ]
  },
  {
   "cell_type": "code",
   "execution_count": 4,
   "metadata": {},
   "outputs": [],
   "source": [
    "# A folder with example images\n",
    "example_images = datasets.ImageFolder(\n",
    "    './example_images/',\n",
    "    transform=transforms.Compose([\n",
    "        transforms.Grayscale(),\n",
    "        transforms.ToTensor(),\n",
    "        transforms.Lambda(lambda x: x * 255),\n",
    "    ])\n",
    ")\n",
    "\n",
    "# A dataloader that will run through all example images in one batch\n",
    "dataloader = DataLoader(example_images, batch_size=20)\n"
   ]
  },
  {
   "cell_type": "code",
   "execution_count": 5,
   "metadata": {},
   "outputs": [],
   "source": [
    "image_df = np.zeros((len(example_images), example_images[0][0][0].shape[0], example_images[0][0][0].shape[1]))\n",
    "for i in range(len(example_images)):\n",
    "    image_df[i,:,:] = example_images[i][0][0]"
   ]
  },
  {
   "cell_type": "code",
   "execution_count": 6,
   "metadata": {},
   "outputs": [
    {
     "data": {
      "text/plain": [
       "False"
      ]
     },
     "execution_count": 6,
     "metadata": {},
     "output_type": "execute_result"
    }
   ],
   "source": [
    "torch.cuda.is_available()"
   ]
  },
  {
   "cell_type": "code",
   "execution_count": 7,
   "metadata": {},
   "outputs": [],
   "source": [
    "# Determine whether there is a compatible GPU available\n",
    "device = torch.device('cuda:0' if torch.cuda.is_available() else 'cpu')"
   ]
  },
  {
   "cell_type": "code",
   "execution_count": 8,
   "metadata": {},
   "outputs": [],
   "source": [
    "# Run the model on the example images\n",
    "#s2: 1st neuron; 2nd image; 3rd filter; 4th (64,64) picture;\n",
    "model = model.to(device)\n",
    "for X, y in dataloader:\n",
    "    s1, c1, s2, c2 = model.get_all_layers(X.to(device))\n"
   ]
  },
  {
   "cell_type": "code",
   "execution_count": 9,
   "metadata": {},
   "outputs": [
    {
     "data": {
      "text/plain": [
       "(8, 8, 10, 400, (64, 64))"
      ]
     },
     "execution_count": 9,
     "metadata": {},
     "output_type": "execute_result"
    }
   ],
   "source": [
    "len(s2), len(s2[0]), len(s2[0][0]), len(s2[0][0][0]), s2[0][0][0][0].shape\n"
   ]
  },
  {
   "cell_type": "code",
   "execution_count": 9,
   "metadata": {},
   "outputs": [
    {
     "data": {
      "text/plain": [
       "<matplotlib.image.AxesImage at 0x187a4f64880>"
      ]
     },
     "execution_count": 9,
     "metadata": {},
     "output_type": "execute_result"
    },
    {
     "data": {
      "image/png": "[encoded data removed]",
      "text/plain": [
       "<Figure size 432x288 with 1 Axes>"
      ]
     },
     "metadata": {
      "needs_background": "light"
     },
     "output_type": "display_data"
    }
   ],
   "source": [
    "plt.imshow(c2[2])"
   ]
  },
  {
   "cell_type": "code",
   "execution_count": null,
   "metadata": {},
   "outputs": [],
   "source": [
    "with open('output.pkl', 'wb') as f:\n",
    "    pickle.dump(dict(s1=s1, c1=c1, s2=s2, c2=c2), f)"
   ]
  },
  {
   "cell_type": "code",
   "execution_count": 10,
   "metadata": {},
   "outputs": [],
   "source": [
    "def image_move(image, image_param, x_coord, y_coord, path_lenght=20):\n",
    "\n",
    "     x_shifts = np.array(x_coord[1][x_coord[1] != '-']%100, dtype=int)[:path_lenght]\n",
    "     y_shifts = np.array(y_coord[1][y_coord[1] != '-']%100, dtype=int)[:path_lenght]\n",
    "\n",
    "     new_images = np.zeros((len(x_shifts),image_param+image.shape[0],image_param+image.shape[1]))\n",
    "     im_par_set = np.zeros((len(x_shifts),4))\n",
    "\n",
    "     v1 = image_param//2\n",
    "     v2 = image_param//2+image.shape[0]\n",
    "     v3 = image_param//2\n",
    "     v4 = image_param//2+image.shape[1]\n",
    "     im_par_set[0,:] = np.array([v1, v2, v3, v4])\n",
    "     new_images[0,v1:v2,v3:v4] = image\n",
    "\n",
    "     for j in range(1,new_images.shape[0]):\n",
    "          #new_images взять картинку предыдущего шага!\n",
    "\n",
    "          v1_new = int(im_par_set[j-1,0] + x_shifts[j])\n",
    "          v2_new = int(im_par_set[j-1,1] + x_shifts[j])\n",
    "          v3_new = int(im_par_set[j-1,2] + y_shifts[j])\n",
    "          v4_new = int(im_par_set[j-1,3] + y_shifts[j])\n",
    "\n",
    "          im_par_set[j,:] = np.array([v1_new, v2_new, v3_new, v4_new])\n",
    "          new_images[j,v1_new:v2_new,v3_new:v4_new] = image\n",
    "     return new_images"
   ]
  },
  {
   "cell_type": "code",
   "execution_count": 15,
   "metadata": {},
   "outputs": [
    {
     "data": {
      "text/plain": [
       "[\"'\", 'e', 'n', 'd', \"'\"]"
      ]
     },
     "execution_count": 15,
     "metadata": {},
     "output_type": "execute_result"
    }
   ],
   "source": [
    "a = [i for i in input() if i != 'end']\n",
    "a"
   ]
  },
  {
   "cell_type": "code",
   "execution_count": 96,
   "metadata": {},
   "outputs": [
    {
     "ename": "ValueError",
     "evalue": "could not broadcast input array from shape (250,250) into shape (250,195)",
     "output_type": "error",
     "traceback": [
      "\u001b[1;31m---------------------------------------------------------------------------\u001b[0m",
      "\u001b[1;31mValueError\u001b[0m                                Traceback (most recent call last)",
      "\u001b[1;32mc:\\Users\\arsen\\OneDrive\\Документы\\GitHub\\pytorch_hmax\\test_vision.ipynb Cell 13'\u001b[0m in \u001b[0;36m<module>\u001b[1;34m\u001b[0m\n\u001b[1;32m----> <a href='vscode-notebook-cell:/c%3A/Users/arsen/OneDrive/%D0%94%D0%BE%D0%BA%D1%83%D0%BC%D0%B5%D0%BD%D1%82%D1%8B/GitHub/pytorch_hmax/test_vision.ipynb#ch0000012?line=0'>1</a>\u001b[0m new_images \u001b[39m=\u001b[39m image_move(image_df[\u001b[39m0\u001b[39;49m,:,:], \u001b[39m2000\u001b[39;49m, x_splited, y_splited, \u001b[39m50\u001b[39;49m)\n",
      "\u001b[1;32mc:\\Users\\arsen\\OneDrive\\Документы\\GitHub\\pytorch_hmax\\test_vision.ipynb Cell 12'\u001b[0m in \u001b[0;36mimage_move\u001b[1;34m(image, image_param, x_coord, y_coord, path_lenght)\u001b[0m\n\u001b[0;32m     <a href='vscode-notebook-cell:/c%3A/Users/arsen/OneDrive/%D0%94%D0%BE%D0%BA%D1%83%D0%BC%D0%B5%D0%BD%D1%82%D1%8B/GitHub/pytorch_hmax/test_vision.ipynb#ch0000011?line=21'>22</a>\u001b[0m      v4_new \u001b[39m=\u001b[39m \u001b[39mint\u001b[39m(im_par_set[j\u001b[39m-\u001b[39m\u001b[39m1\u001b[39m,\u001b[39m3\u001b[39m] \u001b[39m+\u001b[39m y_shifts[j])\n\u001b[0;32m     <a href='vscode-notebook-cell:/c%3A/Users/arsen/OneDrive/%D0%94%D0%BE%D0%BA%D1%83%D0%BC%D0%B5%D0%BD%D1%82%D1%8B/GitHub/pytorch_hmax/test_vision.ipynb#ch0000011?line=23'>24</a>\u001b[0m      im_par_set[j,:] \u001b[39m=\u001b[39m np\u001b[39m.\u001b[39marray([v1_new, v2_new, v3_new, v4_new])\n\u001b[1;32m---> <a href='vscode-notebook-cell:/c%3A/Users/arsen/OneDrive/%D0%94%D0%BE%D0%BA%D1%83%D0%BC%D0%B5%D0%BD%D1%82%D1%8B/GitHub/pytorch_hmax/test_vision.ipynb#ch0000011?line=24'>25</a>\u001b[0m      new_images[j,v1_new:v2_new,v3_new:v4_new] \u001b[39m=\u001b[39m image\n\u001b[0;32m     <a href='vscode-notebook-cell:/c%3A/Users/arsen/OneDrive/%D0%94%D0%BE%D0%BA%D1%83%D0%BC%D0%B5%D0%BD%D1%82%D1%8B/GitHub/pytorch_hmax/test_vision.ipynb#ch0000011?line=25'>26</a>\u001b[0m \u001b[39mreturn\u001b[39;00m new_images\n",
      "\u001b[1;31mValueError\u001b[0m: could not broadcast input array from shape (250,250) into shape (250,195)"
     ]
    }
   ],
   "source": [
    "new_images = image_move(image_df[0,:,:], 2000, x_splited, y_splited, 50)"
   ]
  },
  {
   "cell_type": "code",
   "execution_count": 85,
   "metadata": {},
   "outputs": [
    {
     "data": {
      "text/plain": [
       "<matplotlib.image.AxesImage at 0x187b20ab700>"
      ]
     },
     "execution_count": 85,
     "metadata": {},
     "output_type": "execute_result"
    },
    {
     "data": {
      "image/png": "[encoded data removed]",
      "text/plain": [
       "<Figure size 432x288 with 1 Axes>"
      ]
     },
     "metadata": {
      "needs_background": "light"
     },
     "output_type": "display_data"
    }
   ],
   "source": [
    "x_shifts = np.array(x_splited[1][x_splited[1] != '-']%100, dtype=int)[:500]\n",
    "y_shifts = np.array(y_splited[1][y_splited[1] != '-']%100, dtype=int)[:500]\n",
    "plt.imshow(new_images[39,:,:])"
   ]
  },
  {
   "cell_type": "code",
   "execution_count": 86,
   "metadata": {},
   "outputs": [
    {
     "data": {
      "text/plain": [
       "<matplotlib.collections.PathCollection at 0x187a6eead40>"
      ]
     },
     "execution_count": 86,
     "metadata": {},
     "output_type": "execute_result"
    },
    {
     "data": {
      "image/png": "[encoded data removed]",
      "text/plain": [
       "<Figure size 432x288 with 1 Axes>"
      ]
     },
     "metadata": {
      "needs_background": "light"
     },
     "output_type": "display_data"
    }
   ],
   "source": [
    "plt.scatter(x_shifts, y_shifts)"
   ]
  },
  {
   "cell_type": "code",
   "execution_count": 53,
   "metadata": {},
   "outputs": [],
   "source": [
    "dataloader = DataLoader(new_images, batch_size=40)"
   ]
  },
  {
   "cell_type": "code",
   "execution_count": 54,
   "metadata": {},
   "outputs": [
    {
     "ename": "ValueError",
     "evalue": "too many values to unpack (expected 2)",
     "output_type": "error",
     "traceback": [
      "\u001b[1;31m---------------------------------------------------------------------------\u001b[0m",
      "\u001b[1;31mValueError\u001b[0m                                Traceback (most recent call last)",
      "\u001b[1;32mc:\\Users\\arsen\\OneDrive\\Документы\\GitHub\\pytorch_hmax\\test_vision.ipynb Cell 16'\u001b[0m in \u001b[0;36m<module>\u001b[1;34m\u001b[0m\n\u001b[0;32m      <a href='vscode-notebook-cell:/c%3A/Users/arsen/OneDrive/%D0%94%D0%BE%D0%BA%D1%83%D0%BC%D0%B5%D0%BD%D1%82%D1%8B/GitHub/pytorch_hmax/test_vision.ipynb#ch0000016?line=0'>1</a>\u001b[0m \u001b[39m# Run the model on the example images\u001b[39;00m\n\u001b[0;32m      <a href='vscode-notebook-cell:/c%3A/Users/arsen/OneDrive/%D0%94%D0%BE%D0%BA%D1%83%D0%BC%D0%B5%D0%BD%D1%82%D1%8B/GitHub/pytorch_hmax/test_vision.ipynb#ch0000016?line=1'>2</a>\u001b[0m \u001b[39m#s2: 1st neuron; 2nd image; 3rd filter; 4th (64,64) picture;\u001b[39;00m\n\u001b[0;32m      <a href='vscode-notebook-cell:/c%3A/Users/arsen/OneDrive/%D0%94%D0%BE%D0%BA%D1%83%D0%BC%D0%B5%D0%BD%D1%82%D1%8B/GitHub/pytorch_hmax/test_vision.ipynb#ch0000016?line=2'>3</a>\u001b[0m model \u001b[39m=\u001b[39m model\u001b[39m.\u001b[39mto(device)\n\u001b[1;32m----> <a href='vscode-notebook-cell:/c%3A/Users/arsen/OneDrive/%D0%94%D0%BE%D0%BA%D1%83%D0%BC%D0%B5%D0%BD%D1%82%D1%8B/GitHub/pytorch_hmax/test_vision.ipynb#ch0000016?line=3'>4</a>\u001b[0m \u001b[39mfor\u001b[39;00m X, y \u001b[39min\u001b[39;00m dataloader:\n\u001b[0;32m      <a href='vscode-notebook-cell:/c%3A/Users/arsen/OneDrive/%D0%94%D0%BE%D0%BA%D1%83%D0%BC%D0%B5%D0%BD%D1%82%D1%8B/GitHub/pytorch_hmax/test_vision.ipynb#ch0000016?line=4'>5</a>\u001b[0m     s1, c1, s2, c2 \u001b[39m=\u001b[39m model\u001b[39m.\u001b[39mget_all_layers(X\u001b[39m.\u001b[39mto(device))\n",
      "\u001b[1;31mValueError\u001b[0m: too many values to unpack (expected 2)"
     ]
    }
   ],
   "source": [
    "# Run the model on the example images\n",
    "#s2: 1st neuron; 2nd image; 3rd filter; 4th (64,64) picture;\n",
    "model = model.to(device)\n",
    "for X, y in dataloader:\n",
    "    s1, c1, s2, c2 = model.get_all_layers(X.to(device))"
   ]
  }
 ],
 "metadata": {
  "interpreter": {
   "hash": "8be52dd2d7c2878edb8d6b176d803d56e33a8f9069206cb448eb742dd5aa0267"
  },
  "kernelspec": {
   "display_name": "Python 3.10.2 64-bit",
   "language": "python",
   "name": "python3"
  },
  "language_info": {
   "codemirror_mode": {
    "name": "ipython",
    "version": 3
   },
   "file_extension": ".py",
   "mimetype": "text/x-python",
   "name": "python",
   "nbconvert_exporter": "python",
   "pygments_lexer": "ipython3",
   "version": "3.10.2"
  },
  "orig_nbformat": 4
 },
 "nbformat": 4,
 "nbformat_minor": 2
}
