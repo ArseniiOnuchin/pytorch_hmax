{
 "cells": [
  {
   "cell_type": "code",
   "execution_count": 85,
   "metadata": {},
   "outputs": [],
   "source": [
    "import torch\n",
    "from torch.utils.data import DataLoader\n",
    "from torchvision import datasets, transforms\n",
    "import pickle\n",
    "from PIL import Image\n",
    "\n",
    "import matplotlib.pyplot as plt\n",
    "import hmax\n",
    "import numpy as np\n",
    "import pandas as pd"
   ]
  },
  {
   "cell_type": "code",
   "execution_count": 110,
   "metadata": {},
   "outputs": [],
   "source": [
    "#test data download\n",
    "eye_movements_df = pd.read_excel('./data/eye_movements/sample_data1(dynamics).xlsx', decimal='\\t')\n",
    "\n",
    "x = np.array(eye_movements_df['Point of Regard Right X [px]'])\n",
    "y = np.array(eye_movements_df['Point of Regard Right Y [px]'])\n",
    "\n"
   ]
  },
  {
   "cell_type": "code",
   "execution_count": 103,
   "metadata": {},
   "outputs": [
    {
     "ename": "TypeError",
     "evalue": "sequence item 1: expected str instance, float found",
     "output_type": "error",
     "traceback": [
      "\u001b[1;31m---------------------------------------------------------------------------\u001b[0m",
      "\u001b[1;31mTypeError\u001b[0m                                 Traceback (most recent call last)",
      "\u001b[1;32mc:\\Users\\arsen\\OneDrive\\Документы\\GitHub\\pytorch_hmax\\test_vision.ipynb Cell 3'\u001b[0m in \u001b[0;36m<module>\u001b[1;34m\u001b[0m\n\u001b[1;32m----> <a href='vscode-notebook-cell:/c%3A/Users/arsen/OneDrive/%D0%94%D0%BE%D0%BA%D1%83%D0%BC%D0%B5%D0%BD%D1%82%D1%8B/GitHub/pytorch_hmax/test_vision.ipynb#ch0000025?line=0'>1</a>\u001b[0m [l\u001b[39m.\u001b[39msplit(\u001b[39m'\u001b[39m\u001b[39m-\u001b[39m\u001b[39m'\u001b[39m) \u001b[39mfor\u001b[39;00m l \u001b[39min\u001b[39;00m \u001b[39m'\u001b[39;49m\u001b[39m,\u001b[39;49m\u001b[39m'\u001b[39;49m\u001b[39m.\u001b[39;49mjoin(x)]\n",
      "\u001b[1;31mTypeError\u001b[0m: sequence item 1: expected str instance, float found"
     ]
    }
   ],
   "source": [
    "[l.split('-') for l in ','.join(x)]"
   ]
  },
  {
   "cell_type": "code",
   "execution_count": 97,
   "metadata": {},
   "outputs": [
    {
     "data": {
      "text/html": [
       "<div>\n",
       "<style scoped>\n",
       "    .dataframe tbody tr th:only-of-type {\n",
       "        vertical-align: middle;\n",
       "    }\n",
       "\n",
       "    .dataframe tbody tr th {\n",
       "        vertical-align: top;\n",
       "    }\n",
       "\n",
       "    .dataframe thead th {\n",
       "        text-align: right;\n",
       "    }\n",
       "</style>\n",
       "<table border=\"1\" class=\"dataframe\">\n",
       "  <thead>\n",
       "    <tr style=\"text-align: right;\">\n",
       "      <th></th>\n",
       "      <th>RecordingTime [ms]</th>\n",
       "      <th>Time of Day [h:m:s:ms]</th>\n",
       "      <th>Trial</th>\n",
       "      <th>Stimulus</th>\n",
       "      <th>Export Start Trial Time [ms]</th>\n",
       "      <th>Export End Trial Time [ms]</th>\n",
       "      <th>Participant</th>\n",
       "      <th>Color</th>\n",
       "      <th>Tracking Ratio [%]</th>\n",
       "      <th>Category Group</th>\n",
       "      <th>Pupil Diameter Right [mm]</th>\n",
       "      <th>Point of Regard Right X [px]</th>\n",
       "      <th>Point of Regard Right Y [px]</th>\n",
       "      <th>Gaze Vector Right X</th>\n",
       "      <th>Gaze Vector Right Y</th>\n",
       "      <th>Gaze Vector Right Z</th>\n",
       "    </tr>\n",
       "  </thead>\n",
       "  <tbody>\n",
       "    <tr>\n",
       "      <th>0</th>\n",
       "      <td>1798649.3</td>\n",
       "      <td>17:21:37:896</td>\n",
       "      <td>Trial136</td>\n",
       "      <td>5_01.jpg</td>\n",
       "      <td>0</td>\n",
       "      <td>2000.0</td>\n",
       "      <td>anna_kuchenkova</td>\n",
       "      <td>CornflowerBlue</td>\n",
       "      <td>90.6</td>\n",
       "      <td>Information</td>\n",
       "      <td>-</td>\n",
       "      <td>-</td>\n",
       "      <td>-</td>\n",
       "      <td>-</td>\n",
       "      <td>-</td>\n",
       "      <td>-</td>\n",
       "    </tr>\n",
       "    <tr>\n",
       "      <th>1</th>\n",
       "      <td>1798650.8</td>\n",
       "      <td>17:21:37:897</td>\n",
       "      <td>Trial136</td>\n",
       "      <td>5_01.jpg</td>\n",
       "      <td>0</td>\n",
       "      <td>2000.0</td>\n",
       "      <td>anna_kuchenkova</td>\n",
       "      <td>CornflowerBlue</td>\n",
       "      <td>90.6</td>\n",
       "      <td>Eye</td>\n",
       "      <td>4.7</td>\n",
       "      <td>1616.4</td>\n",
       "      <td>466</td>\n",
       "      <td>0.4</td>\n",
       "      <td>0.3</td>\n",
       "      <td>-0.9</td>\n",
       "    </tr>\n",
       "    <tr>\n",
       "      <th>2</th>\n",
       "      <td>1798652.2</td>\n",
       "      <td>17:21:37:899</td>\n",
       "      <td>Trial136</td>\n",
       "      <td>5_01.jpg</td>\n",
       "      <td>0</td>\n",
       "      <td>2000.0</td>\n",
       "      <td>anna_kuchenkova</td>\n",
       "      <td>CornflowerBlue</td>\n",
       "      <td>90.6</td>\n",
       "      <td>Eye</td>\n",
       "      <td>4.7</td>\n",
       "      <td>1615.9</td>\n",
       "      <td>466.2</td>\n",
       "      <td>0.4</td>\n",
       "      <td>0.3</td>\n",
       "      <td>-0.9</td>\n",
       "    </tr>\n",
       "    <tr>\n",
       "      <th>3</th>\n",
       "      <td>1798653.5</td>\n",
       "      <td>17:21:37:900</td>\n",
       "      <td>Trial136</td>\n",
       "      <td>5_01.jpg</td>\n",
       "      <td>0</td>\n",
       "      <td>2000.0</td>\n",
       "      <td>anna_kuchenkova</td>\n",
       "      <td>CornflowerBlue</td>\n",
       "      <td>90.6</td>\n",
       "      <td>Eye</td>\n",
       "      <td>4.7</td>\n",
       "      <td>1611.4</td>\n",
       "      <td>465.5</td>\n",
       "      <td>0.4</td>\n",
       "      <td>0.3</td>\n",
       "      <td>-0.9</td>\n",
       "    </tr>\n",
       "    <tr>\n",
       "      <th>4</th>\n",
       "      <td>1798655.5</td>\n",
       "      <td>17:21:37:902</td>\n",
       "      <td>Trial136</td>\n",
       "      <td>5_01.jpg</td>\n",
       "      <td>0</td>\n",
       "      <td>2000.0</td>\n",
       "      <td>anna_kuchenkova</td>\n",
       "      <td>CornflowerBlue</td>\n",
       "      <td>90.6</td>\n",
       "      <td>Eye</td>\n",
       "      <td>4.7</td>\n",
       "      <td>1612.6</td>\n",
       "      <td>466.4</td>\n",
       "      <td>0.4</td>\n",
       "      <td>0.3</td>\n",
       "      <td>-0.9</td>\n",
       "    </tr>\n",
       "    <tr>\n",
       "      <th>...</th>\n",
       "      <td>...</td>\n",
       "      <td>...</td>\n",
       "      <td>...</td>\n",
       "      <td>...</td>\n",
       "      <td>...</td>\n",
       "      <td>...</td>\n",
       "      <td>...</td>\n",
       "      <td>...</td>\n",
       "      <td>...</td>\n",
       "      <td>...</td>\n",
       "      <td>...</td>\n",
       "      <td>...</td>\n",
       "      <td>...</td>\n",
       "      <td>...</td>\n",
       "      <td>...</td>\n",
       "      <td>...</td>\n",
       "    </tr>\n",
       "    <tr>\n",
       "      <th>29842</th>\n",
       "      <td>7501646.4</td>\n",
       "      <td>16:51:56:436</td>\n",
       "      <td>Trial044</td>\n",
       "      <td>i5_01.jpg</td>\n",
       "      <td>0</td>\n",
       "      <td>2001.9</td>\n",
       "      <td>alexey</td>\n",
       "      <td>Brown</td>\n",
       "      <td>95.4</td>\n",
       "      <td>Eye</td>\n",
       "      <td>3.8</td>\n",
       "      <td>860.7</td>\n",
       "      <td>473.4</td>\n",
       "      <td>0</td>\n",
       "      <td>0.2</td>\n",
       "      <td>-1</td>\n",
       "    </tr>\n",
       "    <tr>\n",
       "      <th>29843</th>\n",
       "      <td>7501648.4</td>\n",
       "      <td>16:51:56:438</td>\n",
       "      <td>Trial044</td>\n",
       "      <td>i5_01.jpg</td>\n",
       "      <td>0</td>\n",
       "      <td>2001.9</td>\n",
       "      <td>alexey</td>\n",
       "      <td>Brown</td>\n",
       "      <td>95.4</td>\n",
       "      <td>Eye</td>\n",
       "      <td>3.8</td>\n",
       "      <td>861.5</td>\n",
       "      <td>472.3</td>\n",
       "      <td>0</td>\n",
       "      <td>0.2</td>\n",
       "      <td>-1</td>\n",
       "    </tr>\n",
       "    <tr>\n",
       "      <th>29844</th>\n",
       "      <td>7501650.4</td>\n",
       "      <td>16:51:56:440</td>\n",
       "      <td>Trial044</td>\n",
       "      <td>i5_01.jpg</td>\n",
       "      <td>0</td>\n",
       "      <td>2001.9</td>\n",
       "      <td>alexey</td>\n",
       "      <td>Brown</td>\n",
       "      <td>95.4</td>\n",
       "      <td>Eye</td>\n",
       "      <td>3.8</td>\n",
       "      <td>861.5</td>\n",
       "      <td>471.9</td>\n",
       "      <td>0</td>\n",
       "      <td>0.2</td>\n",
       "      <td>-1</td>\n",
       "    </tr>\n",
       "    <tr>\n",
       "      <th>29845</th>\n",
       "      <td>7501652.4</td>\n",
       "      <td>16:51:56:442</td>\n",
       "      <td>Trial044</td>\n",
       "      <td>i5_01.jpg</td>\n",
       "      <td>0</td>\n",
       "      <td>2001.9</td>\n",
       "      <td>alexey</td>\n",
       "      <td>Brown</td>\n",
       "      <td>95.4</td>\n",
       "      <td>Eye</td>\n",
       "      <td>3.8</td>\n",
       "      <td>861.7</td>\n",
       "      <td>471.1</td>\n",
       "      <td>0</td>\n",
       "      <td>0.2</td>\n",
       "      <td>-1</td>\n",
       "    </tr>\n",
       "    <tr>\n",
       "      <th>29846</th>\n",
       "      <td>7501654.4</td>\n",
       "      <td>16:51:56:444</td>\n",
       "      <td>Trial044</td>\n",
       "      <td>i5_01.jpg</td>\n",
       "      <td>0</td>\n",
       "      <td>2001.9</td>\n",
       "      <td>alexey</td>\n",
       "      <td>Brown</td>\n",
       "      <td>95.4</td>\n",
       "      <td>Eye</td>\n",
       "      <td>3.8</td>\n",
       "      <td>862.2</td>\n",
       "      <td>470.3</td>\n",
       "      <td>0.1</td>\n",
       "      <td>0.2</td>\n",
       "      <td>-1</td>\n",
       "    </tr>\n",
       "  </tbody>\n",
       "</table>\n",
       "<p>29847 rows × 16 columns</p>\n",
       "</div>"
      ],
      "text/plain": [
       "       RecordingTime [ms] Time of Day [h:m:s:ms]     Trial   Stimulus  \\\n",
       "0               1798649.3           17:21:37:896  Trial136   5_01.jpg   \n",
       "1               1798650.8           17:21:37:897  Trial136   5_01.jpg   \n",
       "2               1798652.2           17:21:37:899  Trial136   5_01.jpg   \n",
       "3               1798653.5           17:21:37:900  Trial136   5_01.jpg   \n",
       "4               1798655.5           17:21:37:902  Trial136   5_01.jpg   \n",
       "...                   ...                    ...       ...        ...   \n",
       "29842           7501646.4           16:51:56:436  Trial044  i5_01.jpg   \n",
       "29843           7501648.4           16:51:56:438  Trial044  i5_01.jpg   \n",
       "29844           7501650.4           16:51:56:440  Trial044  i5_01.jpg   \n",
       "29845           7501652.4           16:51:56:442  Trial044  i5_01.jpg   \n",
       "29846           7501654.4           16:51:56:444  Trial044  i5_01.jpg   \n",
       "\n",
       "       Export Start Trial Time [ms]  Export End Trial Time [ms]  \\\n",
       "0                                 0                      2000.0   \n",
       "1                                 0                      2000.0   \n",
       "2                                 0                      2000.0   \n",
       "3                                 0                      2000.0   \n",
       "4                                 0                      2000.0   \n",
       "...                             ...                         ...   \n",
       "29842                             0                      2001.9   \n",
       "29843                             0                      2001.9   \n",
       "29844                             0                      2001.9   \n",
       "29845                             0                      2001.9   \n",
       "29846                             0                      2001.9   \n",
       "\n",
       "           Participant           Color  Tracking Ratio [%] Category Group  \\\n",
       "0      anna_kuchenkova  CornflowerBlue                90.6    Information   \n",
       "1      anna_kuchenkova  CornflowerBlue                90.6            Eye   \n",
       "2      anna_kuchenkova  CornflowerBlue                90.6            Eye   \n",
       "3      anna_kuchenkova  CornflowerBlue                90.6            Eye   \n",
       "4      anna_kuchenkova  CornflowerBlue                90.6            Eye   \n",
       "...                ...             ...                 ...            ...   \n",
       "29842           alexey           Brown                95.4            Eye   \n",
       "29843           alexey           Brown                95.4            Eye   \n",
       "29844           alexey           Brown                95.4            Eye   \n",
       "29845           alexey           Brown                95.4            Eye   \n",
       "29846           alexey           Brown                95.4            Eye   \n",
       "\n",
       "      Pupil Diameter Right [mm] Point of Regard Right X [px]  \\\n",
       "0                             -                            -   \n",
       "1                           4.7                       1616.4   \n",
       "2                           4.7                       1615.9   \n",
       "3                           4.7                       1611.4   \n",
       "4                           4.7                       1612.6   \n",
       "...                         ...                          ...   \n",
       "29842                       3.8                        860.7   \n",
       "29843                       3.8                        861.5   \n",
       "29844                       3.8                        861.5   \n",
       "29845                       3.8                        861.7   \n",
       "29846                       3.8                        862.2   \n",
       "\n",
       "      Point of Regard Right Y [px] Gaze Vector Right X Gaze Vector Right Y  \\\n",
       "0                                -                   -                   -   \n",
       "1                              466                 0.4                 0.3   \n",
       "2                            466.2                 0.4                 0.3   \n",
       "3                            465.5                 0.4                 0.3   \n",
       "4                            466.4                 0.4                 0.3   \n",
       "...                            ...                 ...                 ...   \n",
       "29842                        473.4                   0                 0.2   \n",
       "29843                        472.3                   0                 0.2   \n",
       "29844                        471.9                   0                 0.2   \n",
       "29845                        471.1                   0                 0.2   \n",
       "29846                        470.3                 0.1                 0.2   \n",
       "\n",
       "      Gaze Vector Right Z  \n",
       "0                       -  \n",
       "1                    -0.9  \n",
       "2                    -0.9  \n",
       "3                    -0.9  \n",
       "4                    -0.9  \n",
       "...                   ...  \n",
       "29842                  -1  \n",
       "29843                  -1  \n",
       "29844                  -1  \n",
       "29845                  -1  \n",
       "29846                  -1  \n",
       "\n",
       "[29847 rows x 16 columns]"
      ]
     },
     "execution_count": 97,
     "metadata": {},
     "output_type": "execute_result"
    }
   ],
   "source": [
    "eye_movements_df"
   ]
  },
  {
   "cell_type": "code",
   "execution_count": 2,
   "metadata": {},
   "outputs": [],
   "source": [
    "model = hmax.HMAX('./universal_patch_set.mat')"
   ]
  },
  {
   "cell_type": "code",
   "execution_count": 50,
   "metadata": {},
   "outputs": [],
   "source": [
    "# A folder with example images\n",
    "example_images = datasets.ImageFolder(\n",
    "    './example_images/',\n",
    "    transform=transforms.Compose([\n",
    "        transforms.Grayscale(),\n",
    "        transforms.ToTensor(),\n",
    "        transforms.Lambda(lambda x: x * 255),\n",
    "    ])\n",
    ")\n",
    "\n",
    "# A dataloader that will run through all example images in one batch\n",
    "dataloader = DataLoader(example_images, batch_size=20)\n"
   ]
  },
  {
   "cell_type": "code",
   "execution_count": 4,
   "metadata": {},
   "outputs": [
    {
     "data": {
      "text/plain": [
       "False"
      ]
     },
     "execution_count": 4,
     "metadata": {},
     "output_type": "execute_result"
    }
   ],
   "source": [
    "torch.cuda.is_available()"
   ]
  },
  {
   "cell_type": "code",
   "execution_count": 5,
   "metadata": {},
   "outputs": [],
   "source": [
    "# Determine whether there is a compatible GPU available\n",
    "device = torch.device('cuda:0' if torch.cuda.is_available() else 'cpu')"
   ]
  },
  {
   "cell_type": "code",
   "execution_count": 6,
   "metadata": {},
   "outputs": [],
   "source": [
    "# Run the model on the example images\n",
    "#s2: 1st neuron; 2nd image; 3rd filter; 4th (64,64) picture;\n",
    "model = model.to(device)\n",
    "for X, y in dataloader:\n",
    "    s1, c1, s2, c2 = model.get_all_layers(X.to(device))\n"
   ]
  },
  {
   "cell_type": "code",
   "execution_count": 26,
   "metadata": {},
   "outputs": [
    {
     "data": {
      "text/plain": [
       "<matplotlib.image.AxesImage at 0x24a256da140>"
      ]
     },
     "execution_count": 26,
     "metadata": {},
     "output_type": "execute_result"
    },
    {
     "data": {
      "image/png": "[encoded data removed]",
      "text/plain": [
       "<Figure size 432x288 with 1 Axes>"
      ]
     },
     "metadata": {
      "needs_background": "light"
     },
     "output_type": "display_data"
    }
   ],
   "source": [
    "plt.imshow(s2[0][0][9][370])"
   ]
  },
  {
   "cell_type": "code",
   "execution_count": 28,
   "metadata": {},
   "outputs": [
    {
     "data": {
      "text/plain": [
       "<matplotlib.image.AxesImage at 0x24a47a1f250>"
      ]
     },
     "execution_count": 28,
     "metadata": {},
     "output_type": "execute_result"
    },
    {
     "data": {
      "image/png": "[encoded data removed]",
      "text/plain": [
       "<Figure size 432x288 with 1 Axes>"
      ]
     },
     "metadata": {
      "needs_background": "light"
     },
     "output_type": "display_data"
    }
   ],
   "source": [
    "plt.imshow(c2[2])"
   ]
  },
  {
   "cell_type": "code",
   "execution_count": null,
   "metadata": {},
   "outputs": [],
   "source": [
    "with open('output.pkl', 'wb') as f:\n",
    "    pickle.dump(dict(s1=s1, c1=c1, s2=s2, c2=c2), f)"
   ]
  },
  {
   "cell_type": "code",
   "execution_count": 60,
   "metadata": {},
   "outputs": [],
   "source": [
    "images_df = np.zeros((len(example_images),example_images[0][0][0].shape[0],example_images[0][0][0].shape[1]))\n",
    "for i in range(len(example_images)):\n",
    "    images_df[i,:,:] = example_images[i][0][0]"
   ]
  },
  {
   "cell_type": "code",
   "execution_count": 81,
   "metadata": {},
   "outputs": [],
   "source": [
    "def pic_transform(im_df, image_param):\n",
    "\n",
    "     new_images = np.zeros((im_df.shape[0],image_param+im_df.shape[1],image_param+im_df.shape[2]))\n",
    "     for i in range(im_df.shape[0]):\n",
    "         new_images[i,image_param//2:image_param//2+im_df.shape[1],image_param//2:image_param//2+im_df.shape[2]] = im_df[i,:,:]\n",
    "     return new_images\n",
    "\n",
    "def image_move(new_images, ):\n",
    "    \n",
    "    return "
   ]
  },
  {
   "cell_type": "code",
   "execution_count": 82,
   "metadata": {},
   "outputs": [],
   "source": [
    "new_images = pic_transform(images_df, 1000)"
   ]
  },
  {
   "cell_type": "code",
   "execution_count": null,
   "metadata": {},
   "outputs": [],
   "source": []
  }
 ],
 "metadata": {
  "interpreter": {
   "hash": "8be52dd2d7c2878edb8d6b176d803d56e33a8f9069206cb448eb742dd5aa0267"
  },
  "kernelspec": {
   "display_name": "Python 3.10.2 64-bit",
   "language": "python",
   "name": "python3"
  },
  "language_info": {
   "codemirror_mode": {
    "name": "ipython",
    "version": 3
   },
   "file_extension": ".py",
   "mimetype": "text/x-python",
   "name": "python",
   "nbconvert_exporter": "python",
   "pygments_lexer": "ipython3",
   "version": "3.10.2"
  },
  "orig_nbformat": 4
 },
 "nbformat": 4,
 "nbformat_minor": 2
}
