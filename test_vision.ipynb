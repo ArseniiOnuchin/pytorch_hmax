{
 "cells": [
  {
   "cell_type": "code",
   "execution_count": 85,
   "metadata": {},
   "outputs": [],
   "source": [
    "import torch\n",
    "from torch.utils.data import DataLoader\n",
    "from torchvision import datasets, transforms\n",
    "import pickle\n",
    "from PIL import Image\n",
    "\n",
    "import matplotlib.pyplot as plt\n",
    "import hmax\n",
    "import numpy as np\n",
    "import pandas as pd"
   ]
  },
  {
   "cell_type": "code",
   "execution_count": 111,
   "metadata": {},
   "outputs": [
    {
     "name": "stderr",
     "output_type": "stream",
     "text": [
      "C:\\Users\\arsen\\AppData\\Local\\Programs\\Python\\Python310\\lib\\site-packages\\numpy\\core\\fromnumeric.py:43: VisibleDeprecationWarning: Creating an ndarray from ragged nested sequences (which is a list-or-tuple of lists-or-tuples-or ndarrays with different lengths or shapes) is deprecated. If you meant to do this, you must specify 'dtype=object' when creating the ndarray.\n",
      "  result = getattr(asarray(obj), method)(*args, **kwds)\n"
     ]
    }
   ],
   "source": [
    "#test data download\n",
    "eye_movements_df = pd.read_excel('./data/eye_movements/sample_data1(dynamics).xlsx', decimal='\\t')\n",
    "\n",
    "x = np.array(eye_movements_df['Point of Regard Right X [px]'])\n",
    "y = np.array(eye_movements_df['Point of Regard Right Y [px]'])\n",
    "\n",
    "x = np.split(x, np.where(x == '-')[0])\n",
    "y = np.split(x, np.where(y == '-')[0])"
   ]
  },
  {
   "cell_type": "code",
   "execution_count": 2,
   "metadata": {},
   "outputs": [],
   "source": [
    "model = hmax.HMAX('./universal_patch_set.mat')"
   ]
  },
  {
   "cell_type": "code",
   "execution_count": 50,
   "metadata": {},
   "outputs": [],
   "source": [
    "# A folder with example images\n",
    "example_images = datasets.ImageFolder(\n",
    "    './example_images/',\n",
    "    transform=transforms.Compose([\n",
    "        transforms.Grayscale(),\n",
    "        transforms.ToTensor(),\n",
    "        transforms.Lambda(lambda x: x * 255),\n",
    "    ])\n",
    ")\n",
    "\n",
    "# A dataloader that will run through all example images in one batch\n",
    "dataloader = DataLoader(example_images, batch_size=20)\n"
   ]
  },
  {
   "cell_type": "code",
   "execution_count": 4,
   "metadata": {},
   "outputs": [
    {
     "data": {
      "text/plain": [
       "False"
      ]
     },
     "execution_count": 4,
     "metadata": {},
     "output_type": "execute_result"
    }
   ],
   "source": [
    "torch.cuda.is_available()"
   ]
  },
  {
   "cell_type": "code",
   "execution_count": 5,
   "metadata": {},
   "outputs": [],
   "source": [
    "# Determine whether there is a compatible GPU available\n",
    "device = torch.device('cuda:0' if torch.cuda.is_available() else 'cpu')"
   ]
  },
  {
   "cell_type": "code",
   "execution_count": 6,
   "metadata": {},
   "outputs": [],
   "source": [
    "# Run the model on the example images\n",
    "#s2: 1st neuron; 2nd image; 3rd filter; 4th (64,64) picture;\n",
    "model = model.to(device)\n",
    "for X, y in dataloader:\n",
    "    s1, c1, s2, c2 = model.get_all_layers(X.to(device))\n"
   ]
  },
  {
   "cell_type": "code",
   "execution_count": 26,
   "metadata": {},
   "outputs": [
    {
     "data": {
      "text/plain": [
       "<matplotlib.image.AxesImage at 0x24a256da140>"
      ]
     },
     "execution_count": 26,
     "metadata": {},
     "output_type": "execute_result"
    },
    {
     "data": {
      "image/png": "[encoded data removed]",
      "text/plain": [
       "<Figure size 432x288 with 1 Axes>"
      ]
     },
     "metadata": {
      "needs_background": "light"
     },
     "output_type": "display_data"
    }
   ],
   "source": [
    "plt.imshow(s2[0][0][9][370])"
   ]
  },
  {
   "cell_type": "code",
   "execution_count": 28,
   "metadata": {},
   "outputs": [
    {
     "data": {
      "text/plain": [
       "<matplotlib.image.AxesImage at 0x24a47a1f250>"
      ]
     },
     "execution_count": 28,
     "metadata": {},
     "output_type": "execute_result"
    },
    {
     "data": {
      "image/png": "[encoded data removed]",
      "text/plain": [
       "<Figure size 432x288 with 1 Axes>"
      ]
     },
     "metadata": {
      "needs_background": "light"
     },
     "output_type": "display_data"
    }
   ],
   "source": [
    "plt.imshow(c2[2])"
   ]
  },
  {
   "cell_type": "code",
   "execution_count": null,
   "metadata": {},
   "outputs": [],
   "source": [
    "with open('output.pkl', 'wb') as f:\n",
    "    pickle.dump(dict(s1=s1, c1=c1, s2=s2, c2=c2), f)"
   ]
  },
  {
   "cell_type": "code",
   "execution_count": 60,
   "metadata": {},
   "outputs": [],
   "source": [
    "images_df = np.zeros((len(example_images),example_images[0][0][0].shape[0],example_images[0][0][0].shape[1]))\n",
    "for i in range(len(example_images)):\n",
    "    images_df[i,:,:] = example_images[i][0][0]"
   ]
  },
  {
   "cell_type": "code",
   "execution_count": 81,
   "metadata": {},
   "outputs": [],
   "source": [
    "def pic_transform(im_df, image_param):\n",
    "\n",
    "     new_images = np.zeros((im_df.shape[0],image_param+im_df.shape[1],image_param+im_df.shape[2]))\n",
    "     for i in range(im_df.shape[0]):\n",
    "         new_images[i,image_param//2:image_param//2+im_df.shape[1],image_param//2:image_param//2+im_df.shape[2]] = im_df[i,:,:]\n",
    "     return new_images\n",
    "\n",
    "def image_move(new_images, x, y):\n",
    "    \n",
    "    return "
   ]
  },
  {
   "cell_type": "code",
   "execution_count": 82,
   "metadata": {},
   "outputs": [],
   "source": [
    "new_images = pic_transform(images_df, 1000)"
   ]
  },
  {
   "cell_type": "code",
   "execution_count": 117,
   "metadata": {},
   "outputs": [
    {
     "data": {
      "text/plain": [
       "array(['-', 1616.4, 1615.9, 1611.4, 1612.6, 1614.6, 1613.9, 1608.8,\n",
       "       1608.8, 1611.2, 1608.4, 1608.7, 1605.9, 1603.5, 1605.1, 1603.9,\n",
       "       1602.1, 1599.4, 1603.8, 1604.9, 1604.4, 1604, 1605, 1603.7, 1605.4,\n",
       "       1603.7, 1603.6, 1606.3, 1606.8, 1606.5, 1605.2, 1604.6, 1604.9,\n",
       "       1604, 1604, 1603.4, 1601.7, 1603.2, 1604.1, 1603.2, 1603, 1601.8,\n",
       "       1601.9, 1602.9, 1603.3, 1603.6, 1606.8, 1607.3, 1606, 1606.2, 1607,\n",
       "       1607.1, 1607.6, 1607.7, 1605.9, 1604.6, 1604.6, 1605.6, 1601.8,\n",
       "       1603.8, 1602.8, 1602.8, 1603.7, 1604.6, 1604.4, 1605.2, 1605.7,\n",
       "       1607.9, 1607.1, 1608.1, 1610.3, 1610.6, 1610.8, 1610.7, 1609.9,\n",
       "       1610.7, 1610.3, 1611.3, 1610.9, 1612.2, 1612.2, 1612.6, 1611.6,\n",
       "       1611.6, 1614.1, 1615.8, 1612.5, 1615.4, 1616.8, 1616, 1612.3,\n",
       "       1616.3, 1612.1, 1611.8, 1613.7, 1610.9, 1610.7, 1614.7, 1613.5,\n",
       "       1611.9, 1611.5, 1613.2, 1611.8, 1611.7, 1611.2, 1608.3, 1608.6,\n",
       "       1604.7, 1604.5, 1602, 1596.7, 1582.2, 1496, 1465.6, 1431.9, 1383,\n",
       "       1327.2, 1317.4, 1292.4, 1268.7, 1214.9, 1200.2, 1179.3, 1127.8,\n",
       "       1115.5, 1081.1, 1046.8, 1011, 1009.6, 1010.9, 1014.7, 1015.1,\n",
       "       1021.9, 1032.4, 1029.8, 1022.5, 1020.7, 1018.7, 1013.6, 1012.6,\n",
       "       1010.7, 1008.2, 1008.6, 1006.9, 998.2, 1000.5, 1000.2, 999, 1000.7,\n",
       "       1000.8, 1000.8, 1003.9, 1003.2, 1004.9, 1005.7, 1008.2, 1010.2,\n",
       "       1009, 1011.6, 1013.8, 1013.5, 1013.9, 1015.6, 1017.6, 1018.4,\n",
       "       1018.5, 1020.2, 1019.1, 1021.8, 1022.8, 1021.8, 1022.6, 1024.2,\n",
       "       1025.1, 1025.6, 1025.2, 1025.6, 1025.1, 1025.6, 1025.6, 1025.2,\n",
       "       1025.5, 1025.8, 1025.3, 1024.4, 1023.8, 1024.3, 1024.3, 1024.9,\n",
       "       1025.2, 1024.6, 1024.1, 1023.6, 1024.1, 1025, 1025.3, 1023.1,\n",
       "       1023.2, 1022.7, 1022.1, 1021, 1022.6, 1021.7, 1021.2, 1020.9,\n",
       "       1018.9, 1018.6, 1017.7, 1017.3, 1017.1, 1015, 1015.3, 1014.4,\n",
       "       1013.4, 1013.9, 1012.8, 1012.9, 1013.1, 1013.4, 1012.5, 1012.1,\n",
       "       1012.2, 1011.6, 1011.9, 1012.5, 1009.1, 1010.3, 1010.4, 1009, 1007,\n",
       "       1005.2, 1005.4, 1006.1, 1005.6, 1004.8, 1003.4, 1003.3, 1004.1,\n",
       "       1003, 1005.9, 1009.5, 1008.4, 1001.3, 960.1, 922.5, 894.2, 874,\n",
       "       871, 862.8, 827.3, 787.6, 766.9, 755, 765.1, 761.6, 757.1, 755.6,\n",
       "       747.7, 744.1, 738.6, 737.2, 735, 732.1, 730.1, 725.3, 724.1, 721.5,\n",
       "       720, 718.4, 716.2, 716.1, 715.2, 713.4, 712.8, 711.9, 711.6, 711,\n",
       "       711.7, 710.4, 712.1, 713.4, 712.9, 712.8, 711.9, 712, 711.1, 711.9,\n",
       "       712.1, 712, 712.7, 711.8, 711.1, 712, 712.2, 713, 713.4, 714.5,\n",
       "       714.9, 715.6, 715.1, 714.9, 715.3, 715.9, 714.8, 716.5, 717.2,\n",
       "       717.7, 717.4, 717.7, 717.2, 717.9, 718.5, 717.8, 718, 717.6, 717,\n",
       "       715.9, 715.8, 715.1, 714.5, 713.8, 713.1, 711.9, 712.2, 711.7,\n",
       "       711.5, 710.8, 711.2, 710.4, 709.5, 708.7, 707.7, 705.8, 706.5, 716,\n",
       "       743.6, 759.6, 757.9, 770.1, 792, 911.7, 767.2, 744.6, 621.9, 985.6,\n",
       "       0, 0, 0, 0, 0, 0, 0, 0, 0, 0, 0, 0, 0, 0, 0, 0, 0, 0, 0, 0, 0, 0,\n",
       "       0, 0, 0, 0, 0, 0, 0, 0, 0, 0, 0, 0, 0, 0, 0, 0, 0, 485, 0, 1152.6,\n",
       "       0, 0, 0, 0, 0, 0, 922.6, 992.6, 926.5, 820.5, 977.4, 798.6, 759,\n",
       "       745.7, 735.9, 738.8, 731.7, 745, 740, 740, 745.7, 743.4, 748.6,\n",
       "       745.2, 759.4, 755.1, 758.4, 765.8, 775.7, 779, 773, 780, 772.2,\n",
       "       769.5, 759.3, 755.2, 750.8, 728.7, 737.6, 734.7, 739, 733.9, 727.2,\n",
       "       725.9, 722.7, 722.1, 721.3, 728.9, 723, 728.8, 726.9, 740.5, 791.9,\n",
       "       802.2, 796.9, 762.3, 796.8, 745.5, 742.8, 757.1, 750.3, 782.8, 0,\n",
       "       776.8, 951.3, 0, 0, 0, 0, 0, 0, 0, 0, 0, 0, 0, 0, 0, 0, 0, 0, 0, 0,\n",
       "       0, 0, 0, 0, 0, 0, 0, 0, 0, 0, 0, 0, 0, 0, 0, 0, 0, 0, 1771.7, 0, 0,\n",
       "       0, 0, 0, 746.7, 0, 0, 774.1, 803.1, 1025.6, 775.9, 785.4, 776.4,\n",
       "       755.5, 757.5, 762, 753.9, 747.6, 751.5, 744.8, 736.2, 719.8, 715.9,\n",
       "       732.6, 753.7, 782.4, 809.7, 807, 808.4, 810.7, 809, 811.4, 796.7,\n",
       "       805.3, 806.8, 809.7, 809.5, 807.3, 805.8, 805.4, 806.9, 807.2,\n",
       "       806.8, 808.8, 813.5, 813.1, 814.8, 816.9, 815.8, 817.2, 818.5,\n",
       "       817.4, 811.3, 812.5, 816.2, 816.2, 811.4, 813.7, 822.4, 823.5,\n",
       "       820.6, 816.9, 816.8, 820.3, 820.7, 819.9, 821.7, 826.4, 826.5,\n",
       "       820.3, 820.9, 821.6, 822.9, 822.9, 821.7, 821.6, 819, 817.5, 816.4,\n",
       "       817.7, 817.3, 817.7, 818.1, 816.2, 817.5, 817.7, 816.2, 818.5,\n",
       "       820.9, 822.8, 824.6, 823.7, 823.1, 822.2, 824.7, 820.8, 820.3,\n",
       "       819.8, 821.4, 819.4, 816.4, 814.3, 813.6, 812.5, 811.2, 810.9,\n",
       "       809.8, 811.7, 808.4, 808, 808.3, 812.3, 821.7, 820, 826.7, 817.7,\n",
       "       823.1, 825.7, 827, 830.2, 829.8, 830.8, 830.2, 828, 826, 822.4,\n",
       "       815.6, 808.7, 816.7, 807.1, 807.3, 804.3, 805.2, 805.8, 809.6,\n",
       "       816.6, 815.5, 819.7, 822.4, 820.3, 823.5, 825.5, 821.7, 824.2,\n",
       "       821.8, 813.8, 810.9, 810.1, 813.7, 810, 810.7, 810.3, 809.3, 808.6,\n",
       "       810.2, 810.1, 814, 816.3, 818.4, 818.2, 818.9, 819.7, 819.2, 821,\n",
       "       823.2, 822.9, 824.9, 824.6, 823.4, 823.8, 825.6, 827, 827.4, 827.2,\n",
       "       825.7, 822.9, 821.5, 820.4, 818.7, 815.7, 810.7, 812, 804.9, 806.7,\n",
       "       804.2, 802.3, 800.7, 802.8, 803.8, 805.9, 808.2, 808.2, 807.7,\n",
       "       809.8, 809.9, 810.5, 810.7, 811.7, 810.7, 810.1, 809.6, 810.4,\n",
       "       809.8, 809.2, 809.2, 809.5, 812.4, 812.5, 812.1, 814, 814.7, 815.9,\n",
       "       815.2, 816.3, 818, 819.6, 819.3, 821.6, 821.3, 821.9, 823.1, 822.9,\n",
       "       823.2, 825.1, 823.5, 824, 823.1, 824, 822.6, 820.7, 819.9, 818.3,\n",
       "       815.4, 811.5, 809.2, 808.3, 806.5, 802.2, 801.8, 802.9, 800.1,\n",
       "       793.9, 786.6, 761.5, 730.2, 713, 693.8, 694.7, 693.9, 684.5, 680.8,\n",
       "       683, 678.5, 675.1, 675.6, 674.1, 672.4, 671.6, 671.4, 670.1, 671,\n",
       "       671.9, 670.3, 670.1, 670.9, 669.9, 670.1, 669.9, 669.5, 668.5, 667,\n",
       "       667.1, 666.7, 668.2, 668.9, 671.3, 672, 671.6, 672.9, 672.5, 674.3,\n",
       "       676.6, 674.5, 676.3, 675, 672.6, 671, 668.8, 668.4, 665.2, 663.9,\n",
       "       660, 657.2, 656.3, 653.8, 653.4, 653.9, 652.1, 653.9, 653.7, 651.4,\n",
       "       653, 653.7, 653.8, 654.8, 654.3, 653.4, 654.6, 655.2, 653.7, 653.6,\n",
       "       654.9, 652.4, 650.9, 652.6, 653, 652.2, 648, 651.5, 640.7, 607.5,\n",
       "       576.3, 531.8, 479.5, 491.4, 501.4, 476.9, 463.4, 446.2, 436.4,\n",
       "       412.9, 412.3, 396.2, 383.5, 376.8, 363.5, 358, 354.1, 346, 347.6,\n",
       "       344.1, 340.5, 341.4, 336.6, 335.2, 332.5, 329.2, 327.4, 326.2,\n",
       "       326.1, 323.8, 322.8, 321.8, 321.1, 321.2, 319.7, 320.5, 322.9,\n",
       "       324.8, 325.4, 325.4, 327.2, 327.6, 327.4, 326.1, 326, 328.7, 329.5,\n",
       "       327.6, 326.8, 325.7, 325.3, 322.6, 320.4, 319.9, 323.3, 321.5,\n",
       "       321.2, 321.4, 319.1, 320.1, 320.6, 320.7, 324.6, 323.2, 326.6,\n",
       "       329.1, 331, 336.1, 334.9, 338.6, 340.9, 342.4, 343.3, 343.3, 342,\n",
       "       342.2, 340.3, 340.9, 335.7, 336.1, 334.3, 333, 332.6, 330.3, 328.3,\n",
       "       327, 328, 327.5, 324.6, 323.7, 323.1, 320.7, 320.9, 319.2, 321.3,\n",
       "       321, 322.3, 320.6, 325.7, 335.4, 354.8, 434.4, 448.3, 460.1, 499.1,\n",
       "       522.9, 546, 561.6, 574.3, 606.1, 634.8, 644.9, 646.5, 651.9, 654.1,\n",
       "       661.9, 663.9, 668.1, 673.9, 675.2, 673, 676.1, 676.6, 679.5, 681.5,\n",
       "       684.5, 684.3, 686.3, 686.3, 685.9, 687.1, 688.8, 689.7, 690.6,\n",
       "       694.7, 696.4, 695.6, 696, 696.1, 698.7, 700.1, 703.1, 707.4, 710.2,\n",
       "       713.4, 713.9, 715.5, 718.3, 724.2, 723.9, 727, 727.8, 728.6, 729.5,\n",
       "       727.2, 727.3, 727.3, 725.3, 723.6, 721.8, 718.3, 718.1, 716.7,\n",
       "       715.1, 714.5, 711.4, 711.1, 707.3, 705.9, 702.4, 700.7, 699.9,\n",
       "       699.8, 698.1, 697.9, 696.5, 697.2, 695.9, 696.5, 697.6, 699.8,\n",
       "       705.3, 709.5, 713.9, 719.1, 718.3], dtype=object)"
      ]
     },
     "execution_count": 117,
     "metadata": {},
     "output_type": "execute_result"
    }
   ],
   "source": [
    "x[1]"
   ]
  }
 ],
 "metadata": {
  "interpreter": {
   "hash": "8be52dd2d7c2878edb8d6b176d803d56e33a8f9069206cb448eb742dd5aa0267"
  },
  "kernelspec": {
   "display_name": "Python 3.10.2 64-bit",
   "language": "python",
   "name": "python3"
  },
  "language_info": {
   "codemirror_mode": {
    "name": "ipython",
    "version": 3
   },
   "file_extension": ".py",
   "mimetype": "text/x-python",
   "name": "python",
   "nbconvert_exporter": "python",
   "pygments_lexer": "ipython3",
   "version": "3.10.2"
  },
  "orig_nbformat": 4
 },
 "nbformat": 4,
 "nbformat_minor": 2
}
